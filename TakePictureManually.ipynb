{
 "cells": [
  {
   "cell_type": "markdown",
   "metadata": {},
   "source": [
    "### Take Picture Manually\n",
    "cv2.imwrite(saving_path + image_name + image_type, frame)\\\n",
    "可將影片截圖並存在指定路徑"
   ]
  },
  {
   "cell_type": "code",
   "execution_count": 3,
   "metadata": {
    "tags": []
   },
   "outputs": [
    {
     "name": "stdout",
     "output_type": "stream",
     "text": [
      "frame_w\t\t: 1280.0\n",
      "frame_fps\t: 30.0\n",
      "frame_count\t: 2251.0\n",
      "save image : frame0.jpg\n"
     ]
    },
    {
     "data": {
      "text/plain": [
       "-1"
      ]
     },
     "execution_count": 3,
     "metadata": {},
     "output_type": "execute_result"
    }
   ],
   "source": [
    "import cv2\n",
    "from datetime import datetime as dt\n",
    "\n",
    "now_dt = dt.now().strftime('%m/%d/%Y %H:%M:%S')\n",
    "\n",
    "cap = cv2.VideoCapture('./TrumpFootage.mp4')   # play video file\n",
    "\n",
    "print(f'frame_w\\t\\t: {cap.get(cv2.CAP_PROP_FRAME_WIDTH)}\\n'\n",
    "      f'frame_fps\\t: {cap.get(cv2.CAP_PROP_FPS)}\\n'\n",
    "      f'frame_count\\t: {cap.get(cv2.CAP_PROP_FRAME_COUNT)}')\n",
    "\n",
    "\n",
    "count=0\n",
    "while True:\n",
    "    ret, frame = cap.read()                          #  read frame : ret: True/ False,  frame:image\n",
    "    \n",
    "    if cv2.waitKey(1)==ord('t') or cv2.waitKey(1)==ord('T'):  # 按下T or t拍照\n",
    "        cv2.putText(frame, now_dt, (100, 300), cv2.FONT_HERSHEY_SIMPLEX, 1, (0,0,255), 2, cv2.LINE_AA)\n",
    "        cv2.imwrite(f'./frame{count}.jpg', frame)     # save frame as JPEG file          \n",
    "        print(f'save image : frame{count}.jpg')\n",
    "        count+=1 \n",
    "        \n",
    "    if not ret or cv2.waitKey(30) == 27:                   \n",
    "        break   \n",
    "        \n",
    "    cv2.imshow('frame', frame)\n",
    "\n",
    "    \n",
    "    \n",
    "cap.release()\n",
    "cv2.destroyAllWindows()\n",
    "cv2.waitKey(1)   "
   ]
  },
  {
   "cell_type": "code",
   "execution_count": null,
   "metadata": {},
   "outputs": [],
   "source": []
  }
 ],
 "metadata": {
  "kernelspec": {
   "display_name": "Python 3",
   "language": "python",
   "name": "python3"
  },
  "language_info": {
   "codemirror_mode": {
    "name": "ipython",
    "version": 3
   },
   "file_extension": ".py",
   "mimetype": "text/x-python",
   "name": "python",
   "nbconvert_exporter": "python",
   "pygments_lexer": "ipython3",
   "version": "3.6.13"
  }
 },
 "nbformat": 4,
 "nbformat_minor": 4
}
