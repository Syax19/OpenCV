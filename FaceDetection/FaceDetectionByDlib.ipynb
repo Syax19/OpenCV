{
 "cells": [
  {
   "cell_type": "markdown",
   "id": "a8455094-ecc3-4669-b863-a1562993672d",
   "metadata": {},
   "source": [
    "### Face detection by Dlib\n",
    "note:\\\n",
    "python 3.6.X\\\n",
    "dlib 19.8.1"
   ]
  },
  {
   "cell_type": "code",
   "execution_count": 2,
   "id": "13cc329e-28ae-44a7-9a97-181be3c04a18",
   "metadata": {},
   "outputs": [
    {
     "name": "stdout",
     "output_type": "stream",
     "text": [
      "Face decetion complete!\n"
     ]
    },
    {
     "data": {
      "text/plain": [
       "-1"
      ]
     },
     "execution_count": 2,
     "metadata": {},
     "output_type": "execute_result"
    }
   ],
   "source": [
    "import dlib\n",
    "import cv2\n",
    "\n",
    "\n",
    "cap = cv2.VideoCapture('./BBC_Trump.mp4')\n",
    "\n",
    "w = int(cap.get(cv2.CAP_PROP_FRAME_WIDTH))\n",
    "h = int(cap.get(cv2.CAP_PROP_FRAME_HEIGHT))\n",
    "fps = cap.get(cv2.CAP_PROP_FPS)\n",
    "fourcc = cv2.VideoWriter_fourcc(*'XVID')\n",
    "cap.set(cv2.CAP_PROP_POS_MSEC, 10000)            # 設定影片從第 10 秒開始撥放\n",
    "\n",
    "out = cv2.VideoWriter('./Trump_FaceDetection.mp4', fourcc, fps, (w, h))\n",
    "\n",
    "detector = dlib.get_frontal_face_detector()      # Dlib 的人臉偵測器\n",
    "\n",
    "while(cap.isOpened() and cap.get(cv2.CAP_PROP_POS_MSEC)) < 20000:     # 只播放到影片第20秒\n",
    "    ret, frame = cap.read()\n",
    "    if ret :\n",
    "        face_rects, scores, idx = detector.run(frame, 0, -.5)         # 偵測人臉(frame, 指定不取樣（unsample）的次數, 信心指數閾值)\n",
    "        for i, d in enumerate(face_rects):                            # 用for loop取出所有偵測的結果(d為dlib.object)\n",
    "            x1, y1, x2, y2 = d.left(), d.top(), d.right(), d.bottom()\n",
    "\n",
    "            cv2.rectangle(frame, (x1, y1), (x2, y2), (0, 255, 0), 4, cv2.LINE_AA)                         # 以方框標示偵測的人臉\n",
    "            cv2.putText(frame, f'{scores[i]:.2f}, ({idx[i]:0.0f})', (x1, y1), cv2.FONT_HERSHEY_DUPLEX,    # 標示信心分數及正, 左, 右側臉\n",
    "                        0.7, (255, 255, 255), 1, cv2.LINE_AA)\n",
    "            \n",
    "        cv2.imshow('Face Detection', frame)\n",
    "        out.write(frame)                     \n",
    "\n",
    "    if cv2.waitKey(1) & 0xFF == 27:\n",
    "        break\n",
    "\n",
    "print('Face decetion complete!')\n",
    "cap.release()\n",
    "out.release()\n",
    "cv2.destroyAllWindows()\n",
    "cv2.waitKey(1)"
   ]
  },
  {
   "cell_type": "code",
   "execution_count": null,
   "id": "b064c989-a602-4f30-a29f-3d231ba96d9f",
   "metadata": {},
   "outputs": [],
   "source": []
  }
 ],
 "metadata": {
  "kernelspec": {
   "display_name": "Python 3",
   "language": "python",
   "name": "python3"
  },
  "language_info": {
   "codemirror_mode": {
    "name": "ipython",
    "version": 3
   },
   "file_extension": ".py",
   "mimetype": "text/x-python",
   "name": "python",
   "nbconvert_exporter": "python",
   "pygments_lexer": "ipython3",
   "version": "3.6.13"
  }
 },
 "nbformat": 4,
 "nbformat_minor": 5
}
