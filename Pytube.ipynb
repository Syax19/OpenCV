{
 "cells": [
  {
   "cell_type": "markdown",
   "id": "f4e32b48",
   "metadata": {},
   "source": [
    "# Pytube\n",
    "Pytube模組可以用來下載Youtube影片"
   ]
  },
  {
   "cell_type": "code",
   "execution_count": 2,
   "id": "d72ec5e2",
   "metadata": {},
   "outputs": [
    {
     "name": "stdout",
     "output_type": "stream",
     "text": [
      "特朗普總統斥責CNN記者：「無禮又糟糕」－ BBC News 中文 ｜美國｜特朗普｜CNN\n",
      "https://i.ytimg.com/vi/jMqEI3YHPjw/sddefault.jpg\n",
      "Download finished.\n"
     ]
    }
   ],
   "source": [
    "from pytube import YouTube\n",
    "\n",
    "link = \"https://www.youtube.com/watch?v=jMqEI3YHPjw\"\n",
    "yt = YouTube(link)\n",
    "print(yt.title)\n",
    "print(yt.thumbnail_url)\n",
    "\n",
    "try:\n",
    "    yt.streams.get_highest_resolution().download('C:\\\\Users\\\\USER\\\\Desktop')\n",
    "    print(\"Download finished.\")\n",
    "except:\n",
    "    print(\"Error: Download failed.\")\n"
   ]
  },
  {
   "cell_type": "code",
   "execution_count": null,
   "id": "d24a9d6e",
   "metadata": {},
   "outputs": [],
   "source": []
  }
 ],
 "metadata": {
  "kernelspec": {
   "display_name": "Python 3",
   "language": "python",
   "name": "python3"
  },
  "language_info": {
   "codemirror_mode": {
    "name": "ipython",
    "version": 3
   },
   "file_extension": ".py",
   "mimetype": "text/x-python",
   "name": "python",
   "nbconvert_exporter": "python",
   "pygments_lexer": "ipython3",
   "version": "3.6.13"
  },
  "vscode": {
   "interpreter": {
    "hash": "263930470851f494f0ed2879c35b57985588df20f9e529b86e97dd5eb9ddc466"
   }
  }
 },
 "nbformat": 4,
 "nbformat_minor": 5
}
